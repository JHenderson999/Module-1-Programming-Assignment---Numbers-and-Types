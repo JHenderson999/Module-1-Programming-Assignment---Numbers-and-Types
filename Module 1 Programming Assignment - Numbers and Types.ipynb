{
 "cells": [
  {
   "cell_type": "markdown",
   "id": "0c1ae061-cf17-4e5a-b783-6132e05d5440",
   "metadata": {},
   "source": [
    "3.1 How many seconds are in an hour? Use the interactive interpreter as a calculator and multiply the number of seconds in a minute (60) by the number of minutes in an hour (also 60).\n",
    "\n",
    "There are 60 seconds (s) in a minute (m). 60 minutes happen within 1 hour. This program calculates how many seconds are in an hour by multiplying integer s by integer m to print the numeric value of seconds per hour."
   ]
  },
  {
   "cell_type": "code",
   "execution_count": 14,
   "id": "37a6299c-84b8-4f27-a136-39ca0f62150d",
   "metadata": {},
   "outputs": [
    {
     "name": "stdout",
     "output_type": "stream",
     "text": [
      "3600\n"
     ]
    }
   ],
   "source": [
    "s = 60\n",
    "m = 60\n",
    "s * m\n",
    "print (s * m)\n"
   ]
  },
  {
   "cell_type": "markdown",
   "id": "9fb9a97c-8641-430e-8133-0e04f2efc41f",
   "metadata": {},
   "source": [
    "3.2 Assign the result from the previous task (seconds in an hour) to a variable called seconds_per_hour."
   ]
  },
  {
   "cell_type": "code",
   "execution_count": 15,
   "id": "3d2918fe-3036-491f-b136-17edcf816162",
   "metadata": {},
   "outputs": [
    {
     "name": "stdout",
     "output_type": "stream",
     "text": [
      "3600\n"
     ]
    }
   ],
   "source": [
    "seconds_per_hour = s * m\n",
    "print (seconds_per_hour)"
   ]
  },
  {
   "cell_type": "markdown",
   "id": "b33f047a-60d4-40d6-b077-34b67bfa68fb",
   "metadata": {},
   "source": [
    "3.3 How many seconds are in a day? Use your seconds_per_hour variable.\n",
    "\n",
    "There are 60 seconds in a minute and 60 minutes in an hour. There are 24 hours in a day, so 60 seconds occurs 60 times 60 times 24 times within a day. This program calculates and displays to the user how many seconds are in a day using the aforementioned math."
   ]
  },
  {
   "cell_type": "code",
   "execution_count": 16,
   "id": "c59a37ac-8940-40f1-8fe7-3ea4b8757e3f",
   "metadata": {},
   "outputs": [
    {
     "name": "stdout",
     "output_type": "stream",
     "text": [
      "86400\n"
     ]
    }
   ],
   "source": [
    "seconds_per_hour = s * m\n",
    "print (seconds_per_hour * 24)"
   ]
  },
  {
   "cell_type": "markdown",
   "id": "05430413-5f6c-4ac2-bbcb-5097d3c25e8a",
   "metadata": {},
   "source": [
    "3.4 Calculate seconds per day again, but this time save the result in a variable called seconds_per_day."
   ]
  },
  {
   "cell_type": "code",
   "execution_count": 17,
   "id": "158671e6-6ac8-464a-bfb6-b860a47fc627",
   "metadata": {},
   "outputs": [
    {
     "name": "stdout",
     "output_type": "stream",
     "text": [
      "86400\n"
     ]
    }
   ],
   "source": [
    "seconds_per_hour = s * m\n",
    "seconds_per_day = seconds_per_hour * 24\n",
    "print (seconds_per_day)"
   ]
  },
  {
   "cell_type": "markdown",
   "id": "289b43fb-f772-4e01-806e-4baa9e56c98b",
   "metadata": {},
   "source": [
    "3.5 Divide seconds_per_day by seconds_per_hour. Use floating-point (/) division."
   ]
  },
  {
   "cell_type": "code",
   "execution_count": 18,
   "id": "f130cf5e-dd0e-4943-9d09-e7377c3ce987",
   "metadata": {},
   "outputs": [
    {
     "name": "stdout",
     "output_type": "stream",
     "text": [
      "24.0\n"
     ]
    }
   ],
   "source": [
    "print (seconds_per_day / seconds_per_hour)"
   ]
  },
  {
   "cell_type": "markdown",
   "id": "023b134c-da00-4f05-b630-68b8ce081cf8",
   "metadata": {},
   "source": [
    "3.6 Divide seconds_per_day by seconds_per_hour, using integer (//) division. Did this number agree with the floating-point value from the previous question, aside from the final .0?\n",
    "\n",
    "Yes, this number agreed with the floating-point value from the previous question. It would make sense that it does agree with it, since it both of them divide into a clean, evenly divisible number."
   ]
  },
  {
   "cell_type": "code",
   "execution_count": 20,
   "id": "99f83001-660a-4f2c-bc4e-4cb145e2a201",
   "metadata": {},
   "outputs": [
    {
     "name": "stdout",
     "output_type": "stream",
     "text": [
      "24\n"
     ]
    }
   ],
   "source": [
    "print (seconds_per_day // seconds_per_hour)"
   ]
  }
 ],
 "metadata": {
  "kernelspec": {
   "display_name": "Python 3 (ipykernel)",
   "language": "python",
   "name": "python3"
  },
  "language_info": {
   "codemirror_mode": {
    "name": "ipython",
    "version": 3
   },
   "file_extension": ".py",
   "mimetype": "text/x-python",
   "name": "python",
   "nbconvert_exporter": "python",
   "pygments_lexer": "ipython3",
   "version": "3.12.7"
  }
 },
 "nbformat": 4,
 "nbformat_minor": 5
}
